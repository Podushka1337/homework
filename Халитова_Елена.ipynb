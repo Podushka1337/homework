{
  "nbformat": 4,
  "nbformat_minor": 0,
  "metadata": {
    "colab": {
      "provenance": [],
      "authorship_tag": "ABX9TyMXNQaYTEzuiYjyqp1WWRgT",
      "include_colab_link": true
    },
    "kernelspec": {
      "name": "python3",
      "display_name": "Python 3"
    },
    "language_info": {
      "name": "python"
    }
  },
  "cells": [
    {
      "cell_type": "markdown",
      "metadata": {
        "id": "view-in-github",
        "colab_type": "text"
      },
      "source": [
        "<a href=\"https://colab.research.google.com/github/Podushka1337/homework/blob/main/%D0%A5%D0%B0%D0%BB%D0%B8%D1%82%D0%BE%D0%B2%D0%B0_%D0%95%D0%BB%D0%B5%D0%BD%D0%B0.ipynb\" target=\"_parent\"><img src=\"https://colab.research.google.com/assets/colab-badge.svg\" alt=\"Open In Colab\"/></a>"
      ]
    },
    {
      "cell_type": "code",
      "source": [
        "def rabbits():\n",
        "    n, m = map(int, input().split())\n",
        "    return (m - 1) // n + 1\n",
        "\n",
        "def road():\n",
        "    v = int(input())\n",
        "    t = int(input())\n",
        "    return (v * t) % 109\n",
        "\n",
        "#print(rabbits())\n",
        "print(road())"
      ],
      "metadata": {
        "colab": {
          "base_uri": "https://localhost:8080/"
        },
        "id": "r0jgjZfapDE6",
        "outputId": "45acb2b8-a41b-4646-ae12-1c2a52fb5a78"
      },
      "execution_count": 2,
      "outputs": [
        {
          "output_type": "stream",
          "name": "stdout",
          "text": [
            "1\n",
            "2\n",
            "2\n"
          ]
        }
      ]
    }
  ]
}