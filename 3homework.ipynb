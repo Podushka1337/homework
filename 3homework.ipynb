{
  "nbformat": 4,
  "nbformat_minor": 0,
  "metadata": {
    "colab": {
      "provenance": [],
      "authorship_tag": "ABX9TyOSElDKpNoKfWkIG95QsRRo",
      "include_colab_link": true
    },
    "kernelspec": {
      "name": "python3",
      "display_name": "Python 3"
    },
    "language_info": {
      "name": "python"
    }
  },
  "cells": [
    {
      "cell_type": "markdown",
      "metadata": {
        "id": "view-in-github",
        "colab_type": "text"
      },
      "source": [
        "<a href=\"https://colab.research.google.com/github/Podushka1337/homework/blob/main/3homework.ipynb\" target=\"_parent\"><img src=\"https://colab.research.google.com/assets/colab-badge.svg\" alt=\"Open In Colab\"/></a>"
      ]
    },
    {
      "cell_type": "markdown",
      "source": [
        "Халитова Елена 09-313, дз №3, вариант 20."
      ],
      "metadata": {
        "id": "w7FpYtxd-RyO"
      }
    },
    {
      "cell_type": "markdown",
      "source": [
        "1.\tДан одномерный массив В, состоящий из 2n элементов. Переставить его элементы по следующему правилу: второй и минимальный.\n",
        "2.\tДан массив размера N. Найти максимальный из его элементов, не являющихся ни локальным минимумом, ни локальным максимумом. Если таких элементов в массиве нет, то вывести 0.\n",
        "3.\tДан целочисленный массив размера N. Удалить из массива все нечетные числа и вывести размер полученного массива и его содержимое.\n",
        "4.\tДан целочисленный двумерный массив, размерности n х m. Вывести на экран те элементы, у которых остаток от деления на m равен k.\n"
      ],
      "metadata": {
        "id": "it4GtT04-Xxx"
      }
    },
    {
      "cell_type": "code",
      "source": [
        "#1\n",
        "def rearrange_array(arr):\n",
        "    n = len(arr) // 2\n",
        "    result = []\n",
        "    for i in range(n):\n",
        "        result.append(arr[i+1])\n",
        "        result.append(min(arr[i], arr[i+1]))\n",
        "    return result\n",
        "\n",
        "B = list(map(int, input(\"Введите элементы массива через пробел (должно быть четное количество): \").split()))\n",
        "print(\"Преобразованный массив:\", rearrange_array(B))"
      ],
      "metadata": {
        "colab": {
          "base_uri": "https://localhost:8080/"
        },
        "id": "lQp_YiLb-ZBi",
        "outputId": "990e1232-5628-4fac-fc1b-fef9824ef428"
      },
      "execution_count": 1,
      "outputs": [
        {
          "output_type": "stream",
          "name": "stdout",
          "text": [
            "Введите элементы массива через пробел (должно быть четное количество): 1 2 3 4\n",
            "Преобразованный массив: [2, 1, 3, 2]\n"
          ]
        }
      ]
    },
    {
      "cell_type": "code",
      "source": [
        "#2\n",
        "def find_special_max(arr):\n",
        "    if len(arr) < 3:\n",
        "        return 0\n",
        "\n",
        "    extremums = set()\n",
        "    for i in range(1, len(arr)-1):\n",
        "        if arr[i] > arr[i-1] and arr[i] > arr[i+1]:\n",
        "            extremums.add(i)\n",
        "        elif arr[i] < arr[i-1] and arr[i] < arr[i+1]:\n",
        "            extremums.add(i)\n",
        "\n",
        "    candidates = [arr[i] for i in range(len(arr)) if i not in extremums]\n",
        "\n",
        "    return max(candidates) if candidates else 0\n",
        "\n",
        "N = list(map(int, input(\"Введите элементы массива через пробел: \").split()))\n",
        "print(\"Максимальный неэкстремальный элемент:\", find_special_max(N))"
      ],
      "metadata": {
        "colab": {
          "base_uri": "https://localhost:8080/"
        },
        "id": "WN9YH2_o-0PG",
        "outputId": "d489f6f0-a1ce-4b47-a0ac-00d3bec177cd"
      },
      "execution_count": 2,
      "outputs": [
        {
          "output_type": "stream",
          "name": "stdout",
          "text": [
            "Введите элементы массива через пробел: 1 2 3 \n",
            "Максимальный неэкстремальный элемент: 3\n"
          ]
        }
      ]
    },
    {
      "cell_type": "code",
      "source": [
        "#3\n",
        "def remove_odd_numbers(arr):\n",
        "    even_numbers = [x for x in arr if x % 2 == 0]\n",
        "    return len(even_numbers), even_numbers\n",
        "\n",
        "N_array = list(map(int, input(\"Введите целые числа через пробел: \").split()))\n",
        "size, new_array = remove_odd_numbers(N_array)\n",
        "print(\"Новый размер:\", size)\n",
        "print(\"Только четные элементы:\", new_array)"
      ],
      "metadata": {
        "colab": {
          "base_uri": "https://localhost:8080/"
        },
        "id": "LFbItL8j-6VI",
        "outputId": "8a8444f0-df11-4559-80b3-b477f3ae329b"
      },
      "execution_count": 3,
      "outputs": [
        {
          "output_type": "stream",
          "name": "stdout",
          "text": [
            "Введите целые числа через пробел: 1 2 3 4\n",
            "Новый размер: 2\n",
            "Только четные элементы: [2, 4]\n"
          ]
        }
      ]
    },
    {
      "cell_type": "code",
      "source": [
        "#4\n",
        "def find_elements_with_remainder(matrix, m, k):\n",
        "    result = []\n",
        "    for row in matrix:\n",
        "        for element in row:\n",
        "            if element % m == k:\n",
        "                result.append(element)\n",
        "    return result\n",
        "\n",
        "n = int(input(\"Введите количество строк: \"))\n",
        "m = int(input(\"Введите количество столбцов: \"))\n",
        "matrix = []\n",
        "for i in range(n):\n",
        "    row = list(map(int, input(f\"Введите {m} элементов {i+1}-й строки через пробел: \").split()))\n",
        "    matrix.append(row)\n",
        "k = int(input(\"Введите искомый остаток k: \"))\n",
        "\n",
        "result = find_elements_with_remainder(matrix, m, k)\n",
        "print(\"Элементы с заданным остатком:\", result)"
      ],
      "metadata": {
        "colab": {
          "base_uri": "https://localhost:8080/"
        },
        "id": "5YN1eKCm--hM",
        "outputId": "539ff8e4-af83-42f3-abaa-2486acf50584"
      },
      "execution_count": 4,
      "outputs": [
        {
          "output_type": "stream",
          "name": "stdout",
          "text": [
            "Введите количество строк: 2\n",
            "Введите количество столбцов: 2\n",
            "Введите 2 элементов 1-й строки через пробел: 1\n",
            "Введите 2 элементов 2-й строки через пробел: 2\n",
            "Введите искомый остаток k: 3\n",
            "Элементы с заданным остатком: []\n"
          ]
        }
      ]
    }
  ]
}