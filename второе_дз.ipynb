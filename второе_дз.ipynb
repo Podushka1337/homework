{
  "nbformat": 4,
  "nbformat_minor": 0,
  "metadata": {
    "colab": {
      "provenance": [],
      "authorship_tag": "ABX9TyN5zMFO9IN6xDu3+HN1+2TR",
      "include_colab_link": true
    },
    "kernelspec": {
      "name": "python3",
      "display_name": "Python 3"
    },
    "language_info": {
      "name": "python"
    }
  },
  "cells": [
    {
      "cell_type": "markdown",
      "metadata": {
        "id": "view-in-github",
        "colab_type": "text"
      },
      "source": [
        "<a href=\"https://colab.research.google.com/github/Podushka1337/homework/blob/main/%D0%B2%D1%82%D0%BE%D1%80%D0%BE%D0%B5_%D0%B4%D0%B7.ipynb\" target=\"_parent\"><img src=\"https://colab.research.google.com/assets/colab-badge.svg\" alt=\"Open In Colab\"/></a>"
      ]
    },
    {
      "cell_type": "markdown",
      "source": [
        "Халитова Елена (дз №2, вариант 20)"
      ],
      "metadata": {
        "id": "3CLwKY6hkvLK"
      }
    },
    {
      "cell_type": "markdown",
      "source": [
        "Задача 20: Создайте класс Company с полями название и адрес. Реализуйте методы update_address(new_address), который обновляет адрес, и display_info(), который выводит информацию о фирме."
      ],
      "metadata": {
        "id": "3GR3NpIikxxI"
      }
    },
    {
      "cell_type": "code",
      "source": [
        "class company:\n",
        "  def __init__(self, name, address):\n",
        "    self.name = name\n",
        "    self.address = address\n",
        "  def update_address(self, new_address):\n",
        "    self.address = new_address\n",
        "    print(f\"адрес компании {self.name} поменялся на: {self.address}\")\n",
        "  def display_info(self):\n",
        "    print(\"информация о компании: \")\n",
        "    print(f\"название: {self.name}\")\n",
        "    print(f\"адрес: {self.address}\")\n",
        "\n",
        "if __name__ == '__main__':\n",
        "  my_company = company(input(\"введите название: \"), input(\"введите адрес: \"))\n",
        "  my_company.display_info()\n",
        "  my_company.update_address(input(\"введите новый адрес: \"))\n",
        "  my_company.display_info()"
      ],
      "metadata": {
        "colab": {
          "base_uri": "https://localhost:8080/"
        },
        "id": "W2JsRVKRk1_f",
        "outputId": "4f7d0e99-0998-4b43-af43-37b215d1e6e8"
      },
      "execution_count": 2,
      "outputs": [
        {
          "output_type": "stream",
          "name": "stdout",
          "text": [
            "введите названеи: абвгд\n",
            "введите адрес: 1234\n",
            "информация о компании: \n",
            "название: абвгд\n",
            "адрес: 1234\n",
            "введите новый адрес: уууу\n",
            "адрес компании абвгд поменялся на: уууу\n",
            "информация о компании: \n",
            "название: абвгд\n",
            "адрес: уууу\n"
          ]
        }
      ]
    },
    {
      "cell_type": "markdown",
      "source": [
        "Задача 20. Определите класс Employee, который наследуется от класса Person. Класс Employee должен добавлять методы для обновления должности и отображения информации о работнике."
      ],
      "metadata": {
        "id": "aJqOBsOBmswz"
      }
    },
    {
      "cell_type": "code",
      "source": [
        "class person:\n",
        "  def __init__(self, name, age):\n",
        "    self.name = name\n",
        "    self.age = age\n",
        "  def display_info(self):\n",
        "    print(\"информация о работнике: \")\n",
        "    print(f\"фио: {self.name}\")\n",
        "    print(f\"возраст: {self.age}\")\n",
        "\n",
        "class employee(person):\n",
        "  def __init__(self, name, age, position):\n",
        "    super().__init__(name, age)\n",
        "    self.position = position\n",
        "  def update_position(self, new_position):\n",
        "    self.position = new_position\n",
        "    print(f\"должность {self.name} обновлена на: {self.position}\")\n",
        "  def display_info(self):\n",
        "    super().display_info()\n",
        "    print(f\"должность: {self.position}\")\n",
        "\n",
        "if __name__ == '__main__':\n",
        "  employee1 = employee(input(\"введите фио: \"), input(\"введите возраст: \"), input(\"введите должность: \"))\n",
        "  employee1.display_info()\n",
        "  employee1.update_position(input(\"введите новую должность: \"))\n",
        "  employee1.display_info()"
      ],
      "metadata": {
        "colab": {
          "base_uri": "https://localhost:8080/"
        },
        "id": "qC5WNgYMm_YS",
        "outputId": "77cdf7b0-c165-4f8b-8c5a-058a38e4c718"
      },
      "execution_count": 5,
      "outputs": [
        {
          "output_type": "stream",
          "name": "stdout",
          "text": [
            "введите фио: фф ыы вв\n",
            "введите возраст: 30\n",
            "введите должность: дворник\n",
            "информация о работнике: \n",
            "фио: фф ыы вв\n",
            "возраст: 30\n",
            "должность: дворник\n",
            "введите новую должность: пилот\n",
            "должность фф ыы вв обновлена на: пилот\n",
            "информация о работнике: \n",
            "фио: фф ыы вв\n",
            "возраст: 30\n",
            "должность: пилот\n"
          ]
        }
      ]
    },
    {
      "cell_type": "markdown",
      "source": [
        "Задача 20. Создать класс Employee, в котором поля name, position и salary будут приватными. Реализовать методы для изменения позиции и зарплаты с проверкой валидности данных и получения информации о работнике."
      ],
      "metadata": {
        "id": "Yg9EEJ7Yqg54"
      }
    },
    {
      "cell_type": "code",
      "source": [
        "class Employee:\n",
        "\n",
        "  def __init__(self, name, position, salary):\n",
        "    self.__name = name\n",
        "    self.__position = position\n",
        "    self.__salary = salary\n",
        "\n",
        "  def set_position(self, new_position):\n",
        "    if not isinstance(new_position, str):\n",
        "      raise ValueError(\"должность должна быть строкой\")\n",
        "    if not new_position:\n",
        "      raise ValueError(\"должность не может быть пустой\")\n",
        "    self.__position = new_position\n",
        "\n",
        "  def set_salary(self, new_salary):\n",
        "    if not isinstance(new_salary, (int, float)):\n",
        "      raise ValueError(\"зарплата должна быть числом\")\n",
        "    if new_salary < 0:\n",
        "      raise ValueError(\"зарплата не может быть отрицательной\")\n",
        "    self.__salary = new_salary\n",
        "\n",
        "  def get_info(self):\n",
        "    return f\"имя: {self.__name}, должность: {self.__position}, зарплата: {self.__salary}\"\n",
        "\n",
        "  def display_info(self):\n",
        "    print(self.get_info())\n",
        "\n",
        "\n",
        "if __name__ == '__main__':\n",
        "  name = input(\"введите фио: \")\n",
        "  position = input(\"введите должность: \")\n",
        "  salary = float(input(\"введите зарплату: \"))\n",
        "\n",
        "  employee1 = Employee(name, position, salary)\n",
        "  employee1.edisplay_info()\n",
        "\n",
        "  try:\n",
        "    employee1.set_position(\"старший менеджер\")\n",
        "  except ValueError as e:\n",
        "    print(f\"ошибка при изменении должности: {e}\")\n",
        "  employee1.display_info()\n",
        "\n",
        "  try:\n",
        "    employee1.set_salary(70000)\n",
        "  except ValueError as e:\n",
        "    print(f\"ошибка при изменении зп: {e}\")\n",
        "\n"
      ],
      "metadata": {
        "colab": {
          "base_uri": "https://localhost:8080/"
        },
        "id": "OUe2tT-fqu5n",
        "outputId": "7f1c65cf-993c-4d48-9a01-554b2d517c84"
      },
      "execution_count": 12,
      "outputs": [
        {
          "output_type": "stream",
          "name": "stdout",
          "text": [
            "введите фио: dssadsf\n",
            "введите должность: fefef\n",
            "введите зарплату: 32343\n",
            "имя: dssadsf, должность: fefef, зарплата: 32343.0\n",
            "имя: dssadsf, должность: старший менеджер, зарплата: 32343.0\n"
          ]
        }
      ]
    },
    {
      "cell_type": "markdown",
      "source": [
        "Задача 20. Кинотеатр и фильм.  Создайте класс `Кинотеатр`, в котором идут фильмы. Реализуйте метод для добавления фильма. Класс `Фильм` должен содержать поле `название фильма`. Фильмы не могут существовать вне кинотеатра."
      ],
      "metadata": {
        "id": "X-gj7kIgu3Lz"
      }
    },
    {
      "cell_type": "code",
      "source": [
        "class Movie:\n",
        "    def __init__(self, title):\n",
        "        self.title = title\n",
        "\n",
        "    def __str__(self):\n",
        "        return f\"Фильм: {self.title}\"\n",
        "\n",
        "\n",
        "class Cinema:\n",
        "    def __init__(self):\n",
        "        self.movies = []\n",
        "\n",
        "    def add_movie(self, movie_title):\n",
        "        movie = Movie(movie_title)\n",
        "        self.movies.append(movie)\n",
        "        print(f\"Фильм '{movie_title}' добавлен в кинотеатр\")\n",
        "\n",
        "    def show_movies(self):\n",
        "        if not self.movies:\n",
        "            print(\"В кинотеатре пока нет фильмов\")\n",
        "        else:\n",
        "            for movie in self.movies:\n",
        "                print(movie)\n",
        "\n",
        "\n",
        "cinema = Cinema()\n",
        "\n",
        "while True:\n",
        "    title = input(\"Введите название фильма (или 'выход' для завершения): \")\n",
        "    if title.lower() == 'выход':\n",
        "        break\n",
        "    cinema.add_movie(title)\n",
        "\n",
        "print(\"\\nСписок фильмов в кинотеатре:\")\n",
        "cinema.show_movies()"
      ],
      "metadata": {
        "colab": {
          "base_uri": "https://localhost:8080/"
        },
        "id": "OcymLeXkvExm",
        "outputId": "37515797-9202-4e2c-91fd-13397867fdea"
      },
      "execution_count": 2,
      "outputs": [
        {
          "output_type": "stream",
          "name": "stdout",
          "text": [
            "Введите название фильма (или 'выход' для завершения): ааа\n",
            "Фильм 'ааа' добавлен в кинотеатр\n",
            "Введите название фильма (или 'выход' для завершения): ыыы\n",
            "Фильм 'ыыы' добавлен в кинотеатр\n",
            "Введите название фильма (или 'выход' для завершения): оооо\n",
            "Фильм 'оооо' добавлен в кинотеатр\n",
            "Введите название фильма (или 'выход' для завершения): выход\n",
            "\n",
            "Список фильмов в кинотеатре:\n",
            "Фильм: ааа\n",
            "Фильм: ыыы\n",
            "Фильм: оооо\n"
          ]
        }
      ]
    },
    {
      "cell_type": "markdown",
      "source": [
        "Задача 20. Сотрудник и рабочий проект. Реализуйте класс `Сотрудник`, который может работать над несколькими проектами. У класса `Проект` есть поля `название` и `дедлайн`. Проекты могут существовать независимо от сотрудников."
      ],
      "metadata": {
        "id": "_nkhjLe_jnWZ"
      }
    },
    {
      "cell_type": "code",
      "source": [
        "class Project:\n",
        "    def __init__(self, name, deadline):\n",
        "        self.name = name\n",
        "        self.deadline = deadline\n",
        "\n",
        "\n",
        "class Employee:\n",
        "    def __init__(self, name):\n",
        "        self.name = name\n",
        "        self.projects = []\n",
        "\n",
        "\n",
        "projects = []\n",
        "print(\"Вводите проекты (для завершения введите 'стоп'):\")\n",
        "while True:\n",
        "    name = input(\"Название проекта: \")\n",
        "    if name.lower() == 'стоп':\n",
        "        break\n",
        "    deadline = input(\"Дедлайн проекта: \")\n",
        "    projects.append(Project(name, deadline))\n",
        "\n",
        "employees = []\n",
        "print(\"\\nВводите сотрудников (для завершения введите 'стоп'):\")\n",
        "while True:\n",
        "    name = input(\"Имя сотрудника: \")\n",
        "    if name.lower() == 'стоп':\n",
        "        break\n",
        "    employees.append(Employee(name))\n",
        "\n",
        "print(\"\\nНазначение проектов:\")\n",
        "for emp in employees:\n",
        "    print(f\"\\nСотрудник: {emp.name}\")\n",
        "    for i, proj in enumerate(projects, 1):\n",
        "        print(f\"{i}. {proj.name} (до {proj.deadline})\")\n",
        "\n",
        "    while True:\n",
        "        choice = input(\"Номера проектов через пробел (или 'пропустить'): \")\n",
        "        if choice.lower() == 'пропустить':\n",
        "            break\n",
        "        try:\n",
        "            selected = [int(num)-1 for num in choice.split()]\n",
        "            for num in selected:\n",
        "                if 0 <= num < len(projects):\n",
        "                    emp.projects.append(projects[num])\n",
        "            print(\"Проекты добавлены\")\n",
        "            break\n",
        "        except:\n",
        "            print(\"Ошибка ввода\")\n",
        "\n",
        "print(\"\\nРезультат:\")\n",
        "for emp in employees:\n",
        "    print(f\"\\n{emp.name}:\")\n",
        "    if emp.projects:\n",
        "        for proj in emp.projects:\n",
        "            print(f\"- {proj.name} (до {proj.deadline})\")\n",
        "    else:\n",
        "        print(\"Нет проектов\")"
      ],
      "metadata": {
        "colab": {
          "base_uri": "https://localhost:8080/"
        },
        "id": "5KI7D197j0tb",
        "outputId": "bff53995-ee25-4242-8a58-c93d07319882"
      },
      "execution_count": 4,
      "outputs": [
        {
          "output_type": "stream",
          "name": "stdout",
          "text": [
            "Вводите проекты (для завершения введите 'стоп'):\n",
            "Название проекта: аа\n",
            "Дедлайн проекта: 0809\n",
            "Название проекта: пуппу\n",
            "Дедлайн проекта: 3090\n",
            "Название проекта: стоп\n",
            "\n",
            "Вводите сотрудников (для завершения введите 'стоп'):\n",
            "Имя сотрудника: андрей\n",
            "Имя сотрудника: алексей\n",
            "Имя сотрудника: стоп\n",
            "\n",
            "Назначение проектов:\n",
            "\n",
            "Сотрудник: андрей\n",
            "1. аа (до 0809)\n",
            "2. пуппу (до 3090)\n",
            "Номера проектов через пробел (или 'пропустить'): 1 2\n",
            "Проекты добавлены\n",
            "\n",
            "Сотрудник: алексей\n",
            "1. аа (до 0809)\n",
            "2. пуппу (до 3090)\n",
            "Номера проектов через пробел (или 'пропустить'): 1\n",
            "Проекты добавлены\n",
            "\n",
            "Результат:\n",
            "\n",
            "андрей:\n",
            "- аа (до 0809)\n",
            "- пуппу (до 3090)\n",
            "\n",
            "алексей:\n",
            "- аа (до 0809)\n"
          ]
        }
      ]
    },
    {
      "cell_type": "markdown",
      "source": [
        "Задача 20. Создать абстрактный класс ProjectTask с абстрактными методами startTask() и completeTask(). Реализовать подклассы DevelopmentTask и TestingTask, которые реализуют методы startTask() и completeTask()."
      ],
      "metadata": {
        "id": "KWIF8mWmlKe_"
      }
    },
    {
      "cell_type": "code",
      "source": [
        "from abc import ABC, abstractmethod\n",
        "\n",
        "class ProjectTask(ABC):\n",
        "    @abstractmethod\n",
        "    def startTask(self):\n",
        "        pass\n",
        "\n",
        "    @abstractmethod\n",
        "    def completeTask(self):\n",
        "        pass\n",
        "\n",
        "\n",
        "class DevelopmentTask(ProjectTask):\n",
        "    def startTask(self):\n",
        "        print(\"Начата разработка: анализ требований и написание кода\")\n",
        "\n",
        "    def completeTask(self):\n",
        "        print(\"Разработка завершена: код написан и отформатирован\")\n",
        "\n",
        "\n",
        "class TestingTask(ProjectTask):\n",
        "    def startTask(self):\n",
        "        print(\"Начато тестирование: подготовка тестовых сценариев\")\n",
        "\n",
        "    def completeTask(self):\n",
        "        print(\"Тестирование завершено: все тесты пройдены, баги зафиксированы\")\n",
        "\n",
        "\n",
        "dev_task = DevelopmentTask()\n",
        "dev_task.startTask()\n",
        "dev_task.completeTask()\n",
        "\n",
        "test_task = TestingTask()\n",
        "test_task.startTask()\n",
        "test_task.completeTask()"
      ],
      "metadata": {
        "colab": {
          "base_uri": "https://localhost:8080/"
        },
        "id": "diAQ745-lYpq",
        "outputId": "fb1cb0dc-8b55-46bc-9248-8c6def96ccb9"
      },
      "execution_count": 7,
      "outputs": [
        {
          "output_type": "stream",
          "name": "stdout",
          "text": [
            "Начата разработка: анализ требований и написание кода\n",
            "Разработка завершена: код написан и отформатирован\n",
            "Начато тестирование: подготовка тестовых сценариев\n",
            "Тестирование завершено: все тесты пройдены, баги зафиксированы\n"
          ]
        }
      ]
    },
    {
      "cell_type": "markdown",
      "source": [
        "Задача 20. Создать интерфейс ICompany, который содержит методы updateAddress(String address) и getCompanyInfo(). Создать класс Company, реализующий этот интерфейс. Класс должен содержать поля name и address."
      ],
      "metadata": {
        "id": "MOaH3SIlmaNY"
      }
    },
    {
      "cell_type": "code",
      "source": [
        "from abc import ABC, abstractmethod\n",
        "\n",
        "class ICompany(ABC):\n",
        "    @abstractmethod\n",
        "    def update_address(self, address: str) -> None:\n",
        "        pass\n",
        "\n",
        "    @abstractmethod\n",
        "    def get_company_info(self) -> str:\n",
        "        pass\n",
        "\n",
        "\n",
        "class Company(ICompany):\n",
        "    def __init__(self, name: str, address: str):\n",
        "        self._name = name\n",
        "        self._address = address\n",
        "\n",
        "    def update_address(self, address: str) -> None:\n",
        "        self._address = address\n",
        "        print(f\"Адрес компании обновлен: {address}\")\n",
        "\n",
        "    def get_company_info(self) -> str:\n",
        "        return f\"Название: {self._name}\\nАдрес: {self._address}\"\n",
        "\n",
        "\n",
        "def main():\n",
        "    print(\"Создание компании\")\n",
        "    name = input(\"Введите название компании: \")\n",
        "    address = input(\"Введите адрес компании: \")\n",
        "\n",
        "    company = Company(name, address)\n",
        "\n",
        "    while True:\n",
        "        print(\"\\nТекущая информация:\")\n",
        "        print(company.get_company_info())\n",
        "\n",
        "        choice = input(\"\\n1 - Изменить адрес\\n2 - Выйти\\nВыберите действие: \")\n",
        "\n",
        "        if choice == \"1\":\n",
        "            new_address = input(\"Введите новый адрес: \")\n",
        "            company.update_address(new_address)\n",
        "        elif choice == \"2\":\n",
        "            print(\"Завершение работы\")\n",
        "            break\n",
        "        else:\n",
        "            print(\"Некорректный ввод\")\n",
        "\n",
        "\n",
        "if __name__ == \"__main__\":\n",
        "    main()"
      ],
      "metadata": {
        "colab": {
          "base_uri": "https://localhost:8080/"
        },
        "id": "ptAHfPham9OY",
        "outputId": "a1e4ea1f-dad4-44dd-886c-a41b1bc14182"
      },
      "execution_count": 8,
      "outputs": [
        {
          "output_type": "stream",
          "name": "stdout",
          "text": [
            "Создание компании\n",
            "Введите название компании: аавв\n",
            "Введите адрес компании: аыввввыв\n",
            "\n",
            "Текущая информация:\n",
            "Название: аавв\n",
            "Адрес: аыввввыв\n",
            "\n",
            "1 - Изменить адрес\n",
            "2 - Выйти\n",
            "Выберите действие: 2\n",
            "Завершение работы\n"
          ]
        }
      ]
    },
    {
      "cell_type": "markdown",
      "source": [
        "Задача 20. Определите метод calculateBonus() в классе Employee, который будет вычислять бонус для работника. Создайте подклассы FullTimeEmployee и PartTimeEmployee, которые будут переопределять этот метод в зависимости от типа занятости."
      ],
      "metadata": {
        "id": "XIf7amYKnV99"
      }
    },
    {
      "cell_type": "code",
      "source": [
        "class Employee:\n",
        "    def __init__(self, name, salary):\n",
        "        self.name = name\n",
        "        self.salary = salary\n",
        "\n",
        "    def calculate_bonus(self):\n",
        "        return 0  # Базовый класс не имеет реализации бонуса\n",
        "\n",
        "\n",
        "class FullTimeEmployee(Employee):\n",
        "    def calculate_bonus(self):\n",
        "        return self.salary * 0.20  # 20% от зарплаты для полной занятости\n",
        "\n",
        "\n",
        "class PartTimeEmployee(Employee):\n",
        "    def calculate_bonus(self):\n",
        "        return self.salary * 0.10  # 10% от зарплаты для частичной занятости\n",
        "\n",
        "\n",
        "def main():\n",
        "    print(\"Создание сотрудников\")\n",
        "    name = input(\"Введите имя сотрудника: \")\n",
        "    while True:\n",
        "        try:\n",
        "            salary = float(input(\"Введите зарплату сотрудника: \"))\n",
        "            if salary <= 0:\n",
        "                raise ValueError\n",
        "            break\n",
        "        except ValueError:\n",
        "            print(\"Ошибка: введите положительное число для зарплаты\")\n",
        "\n",
        "    while True:\n",
        "        emp_type = input(\"Тип сотрудника (1 - Полная занятость, 2 - Частичная занятость): \")\n",
        "        if emp_type == \"1\":\n",
        "            employee = FullTimeEmployee(name, salary)\n",
        "            break\n",
        "        elif emp_type == \"2\":\n",
        "            employee = PartTimeEmployee(name, salary)\n",
        "            break\n",
        "        else:\n",
        "            print(\"Ошибка: введите 1 или 2\")\n",
        "\n",
        "    bonus = employee.calculate_bonus()\n",
        "    print(f\"\\nБонус для сотрудника {employee.name}:\")\n",
        "    print(f\"Зарплата: {employee.salary:.2f}\")\n",
        "    print(f\"Тип занятости: {employee.__class__.__name__}\")\n",
        "    print(f\"Размер бонуса: {bonus:.2f}\")\n",
        "\n",
        "\n",
        "if __name__ == \"__main__\":\n",
        "    main()"
      ],
      "metadata": {
        "colab": {
          "base_uri": "https://localhost:8080/"
        },
        "id": "dMUW_gNtne-i",
        "outputId": "d8cd00a6-f2db-4641-f74a-6f68ed4ea5e3"
      },
      "execution_count": 9,
      "outputs": [
        {
          "output_type": "stream",
          "name": "stdout",
          "text": [
            "Создание сотрудников\n",
            "Введите имя сотрудника: ффф\n",
            "Введите зарплату сотрудника: 3000\n",
            "Тип сотрудника (1 - Полная занятость, 2 - Частичная занятость): 1\n",
            "\n",
            "Бонус для сотрудника ффф:\n",
            "Зарплата: 3000.00\n",
            "Тип занятости: FullTimeEmployee\n",
            "Размер бонуса: 600.00\n"
          ]
        }
      ]
    }
  ]
}