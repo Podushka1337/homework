{
  "nbformat": 4,
  "nbformat_minor": 0,
  "metadata": {
    "colab": {
      "provenance": [],
      "authorship_tag": "ABX9TyPYzFZOpzkfmOFFVQRXchtT",
      "include_colab_link": true
    },
    "kernelspec": {
      "name": "python3",
      "display_name": "Python 3"
    },
    "language_info": {
      "name": "python"
    }
  },
  "cells": [
    {
      "cell_type": "markdown",
      "metadata": {
        "id": "view-in-github",
        "colab_type": "text"
      },
      "source": [
        "<a href=\"https://colab.research.google.com/github/Podushka1337/homework/blob/main/tester.ipynb\" target=\"_parent\"><img src=\"https://colab.research.google.com/assets/colab-badge.svg\" alt=\"Open In Colab\"/></a>"
      ]
    },
    {
      "cell_type": "markdown",
      "source": [
        "Тестировщик, Халитовой Елены 09-313"
      ],
      "metadata": {
        "id": "TcHdakGry2Y6"
      }
    },
    {
      "cell_type": "code",
      "execution_count": null,
      "metadata": {
        "id": "_f0-eEr9yvA6"
      },
      "outputs": [],
      "source": [
        "def read_test_questions(file_path):\n",
        "    test_questions = []\n",
        "    with open(file_path, 'r', encoding='utf-8') as file:\n",
        "        text_content = file.read().strip()\n",
        "\n",
        "    question_blocks = text_content.split(\"\\n\\n\")\n",
        "\n",
        "    for block in question_blocks:\n",
        "        lines = [line.strip() for line in block.split('\\n') if line.strip()]\n",
        "        if not lines:\n",
        "            continue\n",
        "\n",
        "        first_line = lines[0]\n",
        "        dot_index = first_line.find('. ')\n",
        "\n",
        "        if dot_index < 0 or not first_line[:dot_index].isdigit():\n",
        "            continue\n",
        "\n",
        "        question = first_line[dot_index + 2:].strip()\n",
        "        choices = []\n",
        "        correct_answer = None\n",
        "\n",
        "        for line in lines[1:]:\n",
        "            if line.startswith('Ответ:'):\n",
        "                answer_part = line.split(':', 1)[1].strip()\n",
        "                if answer_part.isdigit():\n",
        "                    correct_answer = int(answer_part)\n",
        "            else:\n",
        "                dot_pos = line.find('. ')\n",
        "                if dot_pos > 0 and line[:dot_pos].isdigit():\n",
        "                    choice_text = line[dot_pos + 2:].strip()\n",
        "                    choices.append(choice_text)\n",
        "\n",
        "        if question and choices and correct_answer is not None:\n",
        "            test_questions.append({\n",
        "                'text': question,\n",
        "                'choices': choices,\n",
        "                'correct': correct_answer\n",
        "            })\n",
        "\n",
        "    return test_questions\n",
        "\n",
        "\n",
        "def start_testing(questions_list):\n",
        "    print(\"\\n*** ТЕСТИРОВАНИЕ ЗАПУЩЕНО ***\\n\")\n",
        "    total_questions = len(questions_list)\n",
        "    right_answers = 0\n",
        "\n",
        "    for number, question in enumerate(questions_list, start=1):\n",
        "        print(f\"ВОПРОС №{number}: {question['text']}\")\n",
        "\n",
        "        for i, choice in enumerate(question['choices'], start=1):\n",
        "            print(f\"{i}) {choice}\")\n",
        "\n",
        "        while True:\n",
        "            user_input = input(\"Введите номер правильного варианта: \")\n",
        "            if user_input.isdigit():\n",
        "                user_choice = int(user_input)\n",
        "                if 1 <= user_choice <= len(question['choices']):\n",
        "                    break\n",
        "                print(f\"Ошибка: введите число от 1 до {len(question['choices'])}\")\n",
        "            else:\n",
        "                print(\"Ошибка: введите целое число\")\n",
        "\n",
        "        if user_choice == question['correct']:\n",
        "            print(\"Верный ответ! +1 балл\\n\")\n",
        "            right_answers += 1\n",
        "        else:\n",
        "            correct_option = question['choices'][question['correct'] - 1]\n",
        "            print(f\"Ошибка! Правильный вариант: {question['correct']}) {correct_option}\\n\")\n",
        "\n",
        "    print(\"\\n*** ТЕСТИРОВАНИЕ ЗАВЕРШЕНО ***\\n\")\n",
        "    score_percentage = (right_answers / total_questions) * 100 if total_questions else 0\n",
        "    print(f\"Итоговый результат: {right_answers}/{total_questions}\")\n",
        "    print(f\"Процент выполнения: {score_percentage:.1f}%\")\n",
        "\n",
        "\n",
        "if __name__ == \"__main__\":\n",
        "    test_file = 'test.txt'\n",
        "    questions_data = read_test_questions(test_file)\n",
        "    start_testing(questions_data)"
      ]
    }
  ]
}